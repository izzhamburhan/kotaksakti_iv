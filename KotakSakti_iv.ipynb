{
 "cells": [
  {
   "cell_type": "code",
   "execution_count": 8,
   "id": "f86340a3-94ac-4201-8289-7c90e8f0ca23",
   "metadata": {},
   "outputs": [],
   "source": [
    "import mysql.connector"
   ]
  },
  {
   "cell_type": "code",
   "execution_count": 9,
   "id": "1bcf0637-ae5d-40ed-a014-c9bb09294267",
   "metadata": {},
   "outputs": [],
   "source": [
    "mycursor = db.cursor()"
   ]
  },
  {
   "cell_type": "code",
   "execution_count": 11,
   "id": "2d031601-9194-4a70-aa3f-7c81af4f89b5",
   "metadata": {},
   "outputs": [],
   "source": [
    "# mycursor.execute(\"CREATE DATABASE KotakSakti_iv\")"
   ]
  },
  {
   "cell_type": "code",
   "execution_count": 12,
   "id": "35a56e96-6f5b-4522-8f3b-1b492f801478",
   "metadata": {},
   "outputs": [],
   "source": [
    "db = mysql.connector.connect(\n",
    "    host='localhost',\n",
    "    user='root',\n",
    "    passwd='root',\n",
    "    database='KotakSakti_iv'\n",
    ")"
   ]
  },
  {
   "cell_type": "markdown",
   "id": "d3794154-1cd2-4e18-b241-4bb5ee985236",
   "metadata": {},
   "source": [
    "## QUESTION 2\n",
    "##### a)Show schema generation query"
   ]
  },
  {
   "cell_type": "code",
   "execution_count": null,
   "id": "c73bc23d-b413-4d12-902c-99eed84373bb",
   "metadata": {},
   "outputs": [],
   "source": [
    "# CREATE TABLE invoices (\n",
    "# \tid INT PRIMARY KEY,\n",
    "# \tnumber INT(9) NOT NULL,\n",
    "# \tsub_total DECIMAL(10,2),\n",
    "# \ttax_total DECIMAL(10,2),\n",
    "# \ttotal DECIMAL(10,2),\n",
    "# \tcustomer_id INT,\n",
    "# \tcreated_at TIMESTAMP DEFAULT CURRENT_TIMESTAMP,\n",
    "# \tupdated_at TIMESTAMP DEFAULT CURRENT_TIMESTAMP,\n",
    "# \tCONSTRAINT FK_customerID FOREIGN KEY (customer_id) REFERENCES customers(id)\n",
    "# );"
   ]
  },
  {
   "cell_type": "code",
   "execution_count": 20,
   "id": "72c6bb21-289c-4869-a8a8-fea84aef5a94",
   "metadata": {},
   "outputs": [],
   "source": [
    "mycursor.execute(\"CREATE TABLE customers ( id INT PRIMARY KEY AUTO_INCREMENT, name VARCHAR(50) UNIQUE NOT NULL, email VARCHAR(50), tel VARCHAR(13), created_at  DEFAULT CURRENT_TIMESTAMP, updated_at TIMESTAMP DEFAULT CURRENT_TIMESTAMP);\")"
   ]
  },
  {
   "cell_type": "code",
   "execution_count": 25,
   "id": "42da0473-2296-43d8-bb09-70d96b0a821c",
   "metadata": {},
   "outputs": [],
   "source": [
    "mycursor.execute(\"CREATE TABLE invoices ( id INT PRIMARY KEY AUTO_INCREMENT, number INT(9) NOT NULL, sub_total DECIMAL(10,2), tax_total DECIMAL(10,2), total DECIMAL(10,2), customer_id INT, created_at TIMESTAMP DEFAULT CURRENT_TIMESTAMP, updated_at TIMESTAMP DEFAULT CURRENT_TIMESTAMP, CONSTRAINT FK_customerID FOREIGN KEY (customer_id) REFERENCES customers(id));\")"
   ]
  },
  {
   "cell_type": "code",
   "execution_count": 27,
   "id": "a84579e9-4c57-4c74-a127-b6f133587d1f",
   "metadata": {},
   "outputs": [],
   "source": [
    "mycursor.execute(\"CREATE TABLE invoice_lines ( id INT PRIMARY KEY AUTO_INCREMENT, description VARCHAR(50) NOT NULL, unit_price DECIMAL(10,2), quantity INT, sub_total DECIMAL(10,2), tax_total DECIMAL(10,2), total DECIMAL(10,2), tax_id INT, sku_id INT, invoice_id INT, CONSTRAINT FK_invoiceID FOREIGN KEY (invoice_id) REFERENCES invoices(id)  ); \")"
   ]
  },
  {
   "cell_type": "code",
   "execution_count": 16,
   "id": "020171bf-ff78-49c6-9948-e5e3c11e037a",
   "metadata": {},
   "outputs": [],
   "source": [
    "mycursor.execute(\"DESCRIBE customers\")"
   ]
  },
  {
   "cell_type": "code",
   "execution_count": 17,
   "id": "fa4d9e2d-1dda-4c13-9dfd-74a4f559e3ee",
   "metadata": {},
   "outputs": [
    {
     "name": "stdout",
     "output_type": "stream",
     "text": [
      "('id', 'int', 'NO', 'PRI', None, '')\n",
      "('name', 'varchar(50)', 'NO', 'UNI', None, '')\n",
      "('email', 'varchar(50)', 'YES', '', None, '')\n",
      "('tel', 'varchar(13)', 'YES', '', None, '')\n",
      "('created_at', 'timestamp', 'YES', '', 'CURRENT_TIMESTAMP', 'DEFAULT_GENERATED')\n",
      "('updated_at', 'timestamp', 'YES', '', None, '')\n"
     ]
    }
   ],
   "source": [
    "for x in mycursor:\n",
    "    print(x)"
   ]
  },
  {
   "cell_type": "code",
   "execution_count": 26,
   "id": "52b2363b-0590-406d-b64b-366772c5eba9",
   "metadata": {},
   "outputs": [],
   "source": [
    "# mycursor.execute(\"INSERT INTO customers (id, name, email, tel, created_at,updated_at) VALUES (%s,%s)\" , (1, \"Irfan Bakti\", \"irfan88@example.com\", \"+60123456789\", \"CURRENT_TIMESTAMP\",  \"CURRENT_TIMESTAMP\"))"
   ]
  },
  {
   "cell_type": "markdown",
   "id": "878f48e8-eeac-4100-b90b-7091bc6761d6",
   "metadata": {},
   "source": [
    "\n",
    "##### b) Show the SQL query for number of customers purchasing more than 5 books"
   ]
  },
  {
   "cell_type": "code",
   "execution_count": 29,
   "id": "737c197d-6134-4f04-b0a5-44aa4d4db380",
   "metadata": {},
   "outputs": [],
   "source": [
    "mycursor.execute(\"SELECT c.id , c.name, COUNT(DISTINCT il.invoice_id) AS total_purchases FROM customers c JOIN invoices i ON c.id = i.customer_id JOIN invoice_lines il ON i.id = il.invoice_id WHERE il.quantity > 5 GROUP BY c.id, c.name \")"
   ]
  },
  {
   "cell_type": "code",
   "execution_count": 30,
   "id": "1acd064c-b974-4060-bfd5-174f89fb3238",
   "metadata": {},
   "outputs": [
    {
     "name": "stdout",
     "output_type": "stream",
     "text": [
      "(6, 'Shanon Teoh', 1)\n"
     ]
    }
   ],
   "source": [
    "for x in mycursor:\n",
    "    print(x)"
   ]
  },
  {
   "cell_type": "code",
   "execution_count": null,
   "id": "43a40341-ec6f-4b91-8698-5b4985088472",
   "metadata": {},
   "outputs": [],
   "source": []
  }
 ],
 "metadata": {
  "kernelspec": {
   "display_name": "Python 3 (ipykernel)",
   "language": "python",
   "name": "python3"
  },
  "language_info": {
   "codemirror_mode": {
    "name": "ipython",
    "version": 3
   },
   "file_extension": ".py",
   "mimetype": "text/x-python",
   "name": "python",
   "nbconvert_exporter": "python",
   "pygments_lexer": "ipython3",
   "version": "3.9.13"
  }
 },
 "nbformat": 4,
 "nbformat_minor": 5
}
