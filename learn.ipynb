{
 "cells": [
  {
   "cell_type": "code",
   "execution_count": 4,
   "id": "f3f0ae52-00e6-48f4-b62f-020ad32b6c3e",
   "metadata": {},
   "outputs": [],
   "source": [
    "import mysql.connector"
   ]
  },
  {
   "cell_type": "code",
   "execution_count": 15,
   "id": "30c2a183-ac96-4681-9c9c-e8bd4b04e9ab",
   "metadata": {},
   "outputs": [],
   "source": [
    "db = mysql.connector.connect(\n",
    "    host='localhost',\n",
    "    user='root',\n",
    "    passwd='root',\n",
    "    database='testdatabase'\n",
    ")"
   ]
  },
  {
   "cell_type": "code",
   "execution_count": 16,
   "id": "473f75aa-b199-4053-ab82-4cd048d689d5",
   "metadata": {},
   "outputs": [],
   "source": [
    "mycursor = db.cursor()"
   ]
  },
  {
   "cell_type": "code",
   "execution_count": 19,
   "id": "80482cf9-1639-411f-88bb-cd2601a1c214",
   "metadata": {},
   "outputs": [],
   "source": [
    "mycursor.execute(\"CREATE DATABASE testdatabase\")"
   ]
  },
  {
   "cell_type": "code",
   "execution_count": 18,
   "id": "71a146e5-d118-4b6a-8291-20d25d59ae51",
   "metadata": {},
   "outputs": [],
   "source": [
    "mycursor.execute(\"CREATE TABLE Person (name VARCHAR(50), age smallint UNSIGNED, personID int PRIMARY KEY AUTO_INCREMENT)\")"
   ]
  },
  {
   "cell_type": "code",
   "execution_count": 20,
   "id": "e8d3cbcf-b1ef-4fe0-80e7-5ae8f0e34121",
   "metadata": {},
   "outputs": [],
   "source": [
    "mycursor.execute(\"DESCRIBE Person\")"
   ]
  },
  {
   "cell_type": "code",
   "execution_count": 22,
   "id": "3c45fd72-f724-4619-85cd-ceb25fd29aa4",
   "metadata": {},
   "outputs": [],
   "source": [
    "mycursor.execute(\"INSERT INTO Person (name, age) VALUES (%s,%s)\" , (\"Tim\", 19))\n",
    "db.commit()"
   ]
  },
  {
   "cell_type": "code",
   "execution_count": 26,
   "id": "88e81758-28c1-43b5-bd39-52065e8ed636",
   "metadata": {},
   "outputs": [],
   "source": [
    "mycursor.execute(\"INSERT INTO Person (name, age) VALUES (%s,%s)\" , (\"Joe\", 22))\n",
    "db.commit()"
   ]
  },
  {
   "cell_type": "code",
   "execution_count": 27,
   "id": "247a81e2-bbff-45d1-ad04-496e46f9f3ca",
   "metadata": {},
   "outputs": [],
   "source": [
    "mycursor.execute(\"SELECT * FROM Person\")"
   ]
  },
  {
   "cell_type": "code",
   "execution_count": 28,
   "id": "5ecf1cc0-a455-442c-b656-a80feae9b01f",
   "metadata": {},
   "outputs": [
    {
     "name": "stdout",
     "output_type": "stream",
     "text": [
      "('Tim', 19, 1)\n",
      "('Joe', 22, 2)\n"
     ]
    }
   ],
   "source": [
    "for x in mycursor:\n",
    "    print(x)"
   ]
  },
  {
   "cell_type": "code",
   "execution_count": null,
   "id": "4a21269d-3918-471e-b84d-ba44359153c0",
   "metadata": {},
   "outputs": [],
   "source": []
  }
 ],
 "metadata": {
  "kernelspec": {
   "display_name": "Python 3 (ipykernel)",
   "language": "python",
   "name": "python3"
  },
  "language_info": {
   "codemirror_mode": {
    "name": "ipython",
    "version": 3
   },
   "file_extension": ".py",
   "mimetype": "text/x-python",
   "name": "python",
   "nbconvert_exporter": "python",
   "pygments_lexer": "ipython3",
   "version": "3.9.13"
  }
 },
 "nbformat": 4,
 "nbformat_minor": 5
}
